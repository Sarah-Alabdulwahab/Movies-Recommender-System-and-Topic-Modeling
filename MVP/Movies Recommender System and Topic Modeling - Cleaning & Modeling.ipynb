{
 "cells": [
  {
   "cell_type": "markdown",
   "metadata": {},
   "source": [
    "# Movies Recommender System and Topic Modeling\n",
    "**By: Sarah Alabdulwahab & Asma Althakafi**\n",
    "> For this Project, we will try to find the degree of similarity between movies in order to recommend movies based on their plots and perform topic modeling on the movie plots as well."
   ]
  },
  {
   "cell_type": "code",
   "execution_count": 1,
   "metadata": {},
   "outputs": [],
   "source": [
    "import pandas as pd\n",
    "from tqdm import tqdm"
   ]
  },
  {
   "cell_type": "markdown",
   "metadata": {},
   "source": [
    "## Cleaning"
   ]
  },
  {
   "cell_type": "code",
   "execution_count": 2,
   "metadata": {},
   "outputs": [
    {
     "data": {
      "text/html": [
       "<div>\n",
       "<style scoped>\n",
       "    .dataframe tbody tr th:only-of-type {\n",
       "        vertical-align: middle;\n",
       "    }\n",
       "\n",
       "    .dataframe tbody tr th {\n",
       "        vertical-align: top;\n",
       "    }\n",
       "\n",
       "    .dataframe thead th {\n",
       "        text-align: right;\n",
       "    }\n",
       "</style>\n",
       "<table border=\"1\" class=\"dataframe\">\n",
       "  <thead>\n",
       "    <tr style=\"text-align: right;\">\n",
       "      <th></th>\n",
       "      <th>original_title</th>\n",
       "      <th>overview</th>\n",
       "      <th>genres</th>\n",
       "      <th>keywords</th>\n",
       "      <th>imdb_plot</th>\n",
       "    </tr>\n",
       "  </thead>\n",
       "  <tbody>\n",
       "    <tr>\n",
       "      <td>0</td>\n",
       "      <td>Twelve Monkeys</td>\n",
       "      <td>In the year 2035, convict James Cole reluctant...</td>\n",
       "      <td>Science-Fiction Thriller Mystery</td>\n",
       "      <td>schizophrenia philadelphia, pennsylvania stock...</td>\n",
       "      <td>In a future world devastated by disease, a con...</td>\n",
       "    </tr>\n",
       "    <tr>\n",
       "      <td>1</td>\n",
       "      <td>Across the Sea of Time</td>\n",
       "      <td>A young Russian boy, Thomas Minton, travels to...</td>\n",
       "      <td>Adventure History Drama Family</td>\n",
       "      <td>NaN</td>\n",
       "      <td>A young Russian boy, Thomas Minton, travels to...</td>\n",
       "    </tr>\n",
       "    <tr>\n",
       "      <td>2</td>\n",
       "      <td>Restoration</td>\n",
       "      <td>An aspiring young physician, Robert Merivel fo...</td>\n",
       "      <td>Drama Romance</td>\n",
       "      <td>jealousy medicine fountain court wealth spanie...</td>\n",
       "      <td>The exiled royal physician to King Charles II ...</td>\n",
       "    </tr>\n",
       "    <tr>\n",
       "      <td>3</td>\n",
       "      <td>The Crossing Guard</td>\n",
       "      <td>After his daughter died in a hit and run, Fred...</td>\n",
       "      <td>Drama Thriller</td>\n",
       "      <td>loss of loved one hit-and-run revenge tragedy</td>\n",
       "      <td>Freddy Gale is a seedy jeweller who has sworn ...</td>\n",
       "    </tr>\n",
       "    <tr>\n",
       "      <td>4</td>\n",
       "      <td>Once Upon a Time... When We Were Colored</td>\n",
       "      <td>This film relates the story of a tightly conne...</td>\n",
       "      <td>Romance Drama</td>\n",
       "      <td>racial segregation family relationships rural ...</td>\n",
       "      <td>A narrator tells the story of his childhood ye...</td>\n",
       "    </tr>\n",
       "  </tbody>\n",
       "</table>\n",
       "</div>"
      ],
      "text/plain": [
       "                             original_title  \\\n",
       "0                            Twelve Monkeys   \n",
       "1                    Across the Sea of Time   \n",
       "2                               Restoration   \n",
       "3                        The Crossing Guard   \n",
       "4  Once Upon a Time... When We Were Colored   \n",
       "\n",
       "                                            overview  \\\n",
       "0  In the year 2035, convict James Cole reluctant...   \n",
       "1  A young Russian boy, Thomas Minton, travels to...   \n",
       "2  An aspiring young physician, Robert Merivel fo...   \n",
       "3  After his daughter died in a hit and run, Fred...   \n",
       "4  This film relates the story of a tightly conne...   \n",
       "\n",
       "                             genres  \\\n",
       "0  Science-Fiction Thriller Mystery   \n",
       "1    Adventure History Drama Family   \n",
       "2                     Drama Romance   \n",
       "3                    Drama Thriller   \n",
       "4                     Romance Drama   \n",
       "\n",
       "                                            keywords  \\\n",
       "0  schizophrenia philadelphia, pennsylvania stock...   \n",
       "1                                                NaN   \n",
       "2  jealousy medicine fountain court wealth spanie...   \n",
       "3     loss of loved one hit-and-run revenge tragedy    \n",
       "4  racial segregation family relationships rural ...   \n",
       "\n",
       "                                           imdb_plot  \n",
       "0  In a future world devastated by disease, a con...  \n",
       "1  A young Russian boy, Thomas Minton, travels to...  \n",
       "2  The exiled royal physician to King Charles II ...  \n",
       "3  Freddy Gale is a seedy jeweller who has sworn ...  \n",
       "4  A narrator tells the story of his childhood ye...  "
      ]
     },
     "execution_count": 2,
     "metadata": {},
     "output_type": "execute_result"
    }
   ],
   "source": [
    "movies_df = pd.read_csv('Data/movies.csv')\n",
    "movies_df.head()"
   ]
  },
  {
   "cell_type": "code",
   "execution_count": 3,
   "metadata": {},
   "outputs": [
    {
     "name": "stdout",
     "output_type": "stream",
     "text": [
      "The dataset contains 3133 movies and 5 features\n"
     ]
    }
   ],
   "source": [
    "print('The dataset contains',movies_df.shape[0],'movies and',movies_df.shape[1],'features')"
   ]
  },
  {
   "cell_type": "code",
   "execution_count": 4,
   "metadata": {},
   "outputs": [
    {
     "name": "stdout",
     "output_type": "stream",
     "text": [
      "<class 'pandas.core.frame.DataFrame'>\n",
      "RangeIndex: 3133 entries, 0 to 3132\n",
      "Data columns (total 5 columns):\n",
      "original_title    3133 non-null object\n",
      "overview          3133 non-null object\n",
      "genres            3133 non-null object\n",
      "keywords          2241 non-null object\n",
      "imdb_plot         3111 non-null object\n",
      "dtypes: object(5)\n",
      "memory usage: 122.5+ KB\n"
     ]
    }
   ],
   "source": [
    "movies_df.info()"
   ]
  },
  {
   "cell_type": "markdown",
   "metadata": {},
   "source": [
    "We decided to fill the null values with empty strings, therefore, we won't lose data."
   ]
  },
  {
   "cell_type": "code",
   "execution_count": 5,
   "metadata": {},
   "outputs": [],
   "source": [
    "movies_df.fillna('', inplace=True)"
   ]
  },
  {
   "cell_type": "markdown",
   "metadata": {},
   "source": [
    "In order to increase the word count, we will concatenate the `overview`, `imdb_plot`, and `keywords` features."
   ]
  },
  {
   "cell_type": "code",
   "execution_count": 6,
   "metadata": {},
   "outputs": [],
   "source": [
    "movies_df['plot'] = movies_df['overview'] + movies_df['imdb_plot'] + movies_df['keywords']"
   ]
  },
  {
   "cell_type": "code",
   "execution_count": 7,
   "metadata": {},
   "outputs": [],
   "source": [
    "#drop them since they are no longer useful\n",
    "movies_df.drop(columns=['overview','imdb_plot','keywords'], inplace = True)"
   ]
  },
  {
   "cell_type": "code",
   "execution_count": 8,
   "metadata": {},
   "outputs": [
    {
     "data": {
      "text/html": [
       "<div>\n",
       "<style scoped>\n",
       "    .dataframe tbody tr th:only-of-type {\n",
       "        vertical-align: middle;\n",
       "    }\n",
       "\n",
       "    .dataframe tbody tr th {\n",
       "        vertical-align: top;\n",
       "    }\n",
       "\n",
       "    .dataframe thead th {\n",
       "        text-align: right;\n",
       "    }\n",
       "</style>\n",
       "<table border=\"1\" class=\"dataframe\">\n",
       "  <thead>\n",
       "    <tr style=\"text-align: right;\">\n",
       "      <th></th>\n",
       "      <th>original_title</th>\n",
       "      <th>genres</th>\n",
       "      <th>plot</th>\n",
       "    </tr>\n",
       "  </thead>\n",
       "  <tbody>\n",
       "    <tr>\n",
       "      <td>0</td>\n",
       "      <td>Twelve Monkeys</td>\n",
       "      <td>Science-Fiction Thriller Mystery</td>\n",
       "      <td>In the year 2035, convict James Cole reluctant...</td>\n",
       "    </tr>\n",
       "    <tr>\n",
       "      <td>1</td>\n",
       "      <td>Across the Sea of Time</td>\n",
       "      <td>Adventure History Drama Family</td>\n",
       "      <td>A young Russian boy, Thomas Minton, travels to...</td>\n",
       "    </tr>\n",
       "    <tr>\n",
       "      <td>2</td>\n",
       "      <td>Restoration</td>\n",
       "      <td>Drama Romance</td>\n",
       "      <td>An aspiring young physician, Robert Merivel fo...</td>\n",
       "    </tr>\n",
       "    <tr>\n",
       "      <td>3</td>\n",
       "      <td>The Crossing Guard</td>\n",
       "      <td>Drama Thriller</td>\n",
       "      <td>After his daughter died in a hit and run, Fred...</td>\n",
       "    </tr>\n",
       "    <tr>\n",
       "      <td>4</td>\n",
       "      <td>Once Upon a Time... When We Were Colored</td>\n",
       "      <td>Romance Drama</td>\n",
       "      <td>This film relates the story of a tightly conne...</td>\n",
       "    </tr>\n",
       "  </tbody>\n",
       "</table>\n",
       "</div>"
      ],
      "text/plain": [
       "                             original_title                            genres  \\\n",
       "0                            Twelve Monkeys  Science-Fiction Thriller Mystery   \n",
       "1                    Across the Sea of Time    Adventure History Drama Family   \n",
       "2                               Restoration                     Drama Romance   \n",
       "3                        The Crossing Guard                    Drama Thriller   \n",
       "4  Once Upon a Time... When We Were Colored                     Romance Drama   \n",
       "\n",
       "                                                plot  \n",
       "0  In the year 2035, convict James Cole reluctant...  \n",
       "1  A young Russian boy, Thomas Minton, travels to...  \n",
       "2  An aspiring young physician, Robert Merivel fo...  \n",
       "3  After his daughter died in a hit and run, Fred...  \n",
       "4  This film relates the story of a tightly conne...  "
      ]
     },
     "execution_count": 8,
     "metadata": {},
     "output_type": "execute_result"
    }
   ],
   "source": [
    "movies_df.head()"
   ]
  },
  {
   "cell_type": "markdown",
   "metadata": {},
   "source": [
    "### Spacy\n",
    "We will use Spacy in order to remove named entities from each movie plot. \n",
    ">You can install Spacy using pip: `!pip install spacy` and download trained pipelines in English: `!python -m spacy download en_core_web_sm`"
   ]
  },
  {
   "cell_type": "code",
   "execution_count": 9,
   "metadata": {},
   "outputs": [],
   "source": [
    "import spacy\n",
    "nlp = spacy.load('en_core_web_sm')"
   ]
  },
  {
   "cell_type": "code",
   "execution_count": 10,
   "metadata": {},
   "outputs": [
    {
     "name": "stderr",
     "output_type": "stream",
     "text": [
      "3133it [03:31, 14.84it/s]\n"
     ]
    }
   ],
   "source": [
    "for i, txt in tqdm(enumerate(movies_df['plot'])):\n",
    "    document = nlp(txt)\n",
    "    movies_df['plot'][i]=\" \".join([ent.text for ent in document \n",
    "                                   if ent.ent_type_ != 'PERSON' and ent.ent_type_ != 'DATE'])"
   ]
  },
  {
   "cell_type": "markdown",
   "metadata": {},
   "source": [
    "### NLTK, LancasterStemmer, and CountVectorizer\n",
    "We will use NLTK, LancasterStemmer, and CountVectorizer in order to clean the movies plots."
   ]
  },
  {
   "cell_type": "code",
   "execution_count": 11,
   "metadata": {},
   "outputs": [],
   "source": [
    "import nltk\n",
    "from nltk.stem import LancasterStemmer\n",
    "stemmer = LancasterStemmer()"
   ]
  },
  {
   "cell_type": "code",
   "execution_count": 12,
   "metadata": {},
   "outputs": [],
   "source": [
    "from sklearn.feature_extraction.text import CountVectorizer\n",
    "cv = CountVectorizer(stop_words='english')"
   ]
  },
  {
   "cell_type": "code",
   "execution_count": 13,
   "metadata": {},
   "outputs": [
    {
     "name": "stderr",
     "output_type": "stream",
     "text": [
      "100%|██████████| 3133/3133 [00:26<00:00, 116.29it/s]\n"
     ]
    }
   ],
   "source": [
    "clean_plots = []\n",
    "for plot in tqdm(movies_df['plot']):\n",
    "    words = nltk.word_tokenize(plot)\n",
    "    clean_plots.append(' '.join([stemmer.stem(word).lower() for word in words if word.isalpha()]))"
   ]
  },
  {
   "cell_type": "code",
   "execution_count": 14,
   "metadata": {},
   "outputs": [
    {
     "data": {
      "text/plain": [
       "(3133, 14829)"
      ]
     },
     "execution_count": 14,
     "metadata": {},
     "output_type": "execute_result"
    }
   ],
   "source": [
    "doc_word = cv.fit_transform(clean_plots)\n",
    "doc_word.shape"
   ]
  },
  {
   "cell_type": "markdown",
   "metadata": {},
   "source": [
    "### Classification"
   ]
  },
  {
   "cell_type": "code",
   "execution_count": 15,
   "metadata": {},
   "outputs": [],
   "source": [
    "main_genre = []\n",
    "for genres in movies_df.genres.str.split():\n",
    "    main_genre.append(genres[0])"
   ]
  },
  {
   "cell_type": "code",
   "execution_count": 16,
   "metadata": {},
   "outputs": [
    {
     "data": {
      "text/plain": [
       "Drama              824\n",
       "Documentary        542\n",
       "Comedy             521\n",
       "Action             266\n",
       "Horror             164\n",
       "Thriller           100\n",
       "Romance             98\n",
       "Adventure           88\n",
       "Crime               80\n",
       "Family              79\n",
       "Animation           77\n",
       "Music               61\n",
       "Science-Fiction     59\n",
       "Fantasy             52\n",
       "Western             35\n",
       "Mystery             31\n",
       "War                 26\n",
       "History             23\n",
       "Foreign              7\n",
       "dtype: int64"
      ]
     },
     "execution_count": 16,
     "metadata": {},
     "output_type": "execute_result"
    }
   ],
   "source": [
    "pd.Series(main_genre).value_counts()"
   ]
  },
  {
   "cell_type": "code",
   "execution_count": 17,
   "metadata": {},
   "outputs": [],
   "source": [
    "from sklearn.model_selection import train_test_split\n",
    "X_train, X_test, y_train, y_test = train_test_split(clean_plots, main_genre,test_size=.2, random_state=0)\n",
    "\n",
    "X_train = cv.fit_transform(X_train)\n",
    "X_test = cv.transform(X_test)"
   ]
  },
  {
   "cell_type": "code",
   "execution_count": 18,
   "metadata": {},
   "outputs": [
    {
     "data": {
      "text/plain": [
       "0.46570972886762363"
      ]
     },
     "execution_count": 18,
     "metadata": {},
     "output_type": "execute_result"
    }
   ],
   "source": [
    "from sklearn.naive_bayes import MultinomialNB\n",
    "nb = MultinomialNB()\n",
    "nb.fit(X_train, y_train)\n",
    "nb.score(X_test, y_test)"
   ]
  },
  {
   "cell_type": "code",
   "execution_count": 19,
   "metadata": {},
   "outputs": [],
   "source": [
    "from sklearn.ensemble import RandomForestClassifier, GradientBoostingClassifier"
   ]
  },
  {
   "cell_type": "code",
   "execution_count": 20,
   "metadata": {},
   "outputs": [
    {
     "data": {
      "text/plain": [
       "0.4194577352472089"
      ]
     },
     "execution_count": 20,
     "metadata": {},
     "output_type": "execute_result"
    }
   ],
   "source": [
    "model = RandomForestClassifier(max_depth=25, n_estimators=100)\n",
    "model.fit(X_train, y_train)\n",
    "model.score(X_test, y_test)"
   ]
  },
  {
   "cell_type": "markdown",
   "metadata": {},
   "source": [
    "## Content-based Recommender System"
   ]
  },
  {
   "cell_type": "code",
   "execution_count": 21,
   "metadata": {},
   "outputs": [],
   "source": [
    "from sklearn.metrics.pairwise import cosine_similarity "
   ]
  },
  {
   "cell_type": "code",
   "execution_count": 22,
   "metadata": {},
   "outputs": [],
   "source": [
    "def find_similar(title, num_of_movies=10):\n",
    "    index = movies_df[movies_df['original_title'] == title].index[0] #index of the given movie\n",
    "    similarities = []\n",
    "    for i in range(doc_word.shape[0]):\n",
    "        similarities.append([cosine_similarity(doc_word[index], doc_word[i])[0][0], \n",
    "                             movies_df['original_title'][i], movies_df['genres'][i]])\n",
    "    results = sorted(similarities, reverse=True)[1:num_of_movies+1]\n",
    "    return results"
   ]
  },
  {
   "cell_type": "code",
   "execution_count": 23,
   "metadata": {},
   "outputs": [
    {
     "name": "stdout",
     "output_type": "stream",
     "text": [
      "Carriers (similarity score: 0.2490583770684494 )\n",
      "\tgenres: Action Drama Horror Science-Fiction Thriller \n",
      "\n",
      "Day of the Dead 2: Contagium (similarity score: 0.22658913094724192 )\n",
      "\tgenres: Horror Science-Fiction \n",
      "\n",
      "Solos (similarity score: 0.2257646938068417 )\n",
      "\tgenres: Horror Thriller Science-Fiction Foreign \n",
      "\n"
     ]
    }
   ],
   "source": [
    "for movie in find_similar('Twelve Monkeys',3):\n",
    "    print(movie[1],\"(similarity score:\",movie[0],')')\n",
    "    print('\\tgenres:',movie[2],'\\n')"
   ]
  },
  {
   "cell_type": "markdown",
   "metadata": {},
   "source": [
    "## Clustering"
   ]
  },
  {
   "cell_type": "code",
   "execution_count": 24,
   "metadata": {},
   "outputs": [],
   "source": [
    "from sklearn.cluster import KMeans"
   ]
  },
  {
   "cell_type": "code",
   "execution_count": 25,
   "metadata": {},
   "outputs": [
    {
     "data": {
      "text/plain": [
       "367307.3197550094"
      ]
     },
     "execution_count": 25,
     "metadata": {},
     "output_type": "execute_result"
    }
   ],
   "source": [
    "num_clusters = 100\n",
    "km = KMeans(n_clusters=num_clusters,random_state=10,n_init=1)\n",
    "km.fit(doc_word)\n",
    "km.inertia_"
   ]
  },
  {
   "cell_type": "code",
   "execution_count": 26,
   "metadata": {},
   "outputs": [],
   "source": [
    "from sklearn.metrics import silhouette_score"
   ]
  },
  {
   "cell_type": "code",
   "execution_count": 27,
   "metadata": {},
   "outputs": [
    {
     "name": "stdout",
     "output_type": "stream",
     "text": [
      "For n_clusters = 10 the average silhouette_score is: 0.0025007458660632684\n"
     ]
    }
   ],
   "source": [
    "clusterer = KMeans(n_clusters=10, random_state=10)\n",
    "cluster_labels = clusterer.fit_predict(doc_word)\n",
    "silhouette_avg = silhouette_score(doc_word, cluster_labels)\n",
    "print(\"For n_clusters =\", 10,\"the average silhouette_score is:\",silhouette_avg)"
   ]
  }
 ],
 "metadata": {
  "kernelspec": {
   "display_name": "Python 3",
   "language": "python",
   "name": "python3"
  },
  "language_info": {
   "codemirror_mode": {
    "name": "ipython",
    "version": 3
   },
   "file_extension": ".py",
   "mimetype": "text/x-python",
   "name": "python",
   "nbconvert_exporter": "python",
   "pygments_lexer": "ipython3",
   "version": "3.7.4"
  }
 },
 "nbformat": 4,
 "nbformat_minor": 2
}
